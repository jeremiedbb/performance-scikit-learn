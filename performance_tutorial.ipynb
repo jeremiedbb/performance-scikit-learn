{
 "cells": [
  {
   "cell_type": "code",
   "execution_count": 3,
   "metadata": {
    "slideshow": {
     "slide_type": "skip"
    }
   },
   "outputs": [],
   "source": [
    "import warnings\n",
    "warnings.filterwarnings('ignore')\n",
    "\n",
    "import numpy as np\n",
    "\n",
    "%load_ext cython\n",
    "%load_ext snakeviz"
   ]
  },
  {
   "cell_type": "markdown",
   "metadata": {
    "slideshow": {
     "slide_type": "slide"
    }
   },
   "source": [
    "<br></br>\n",
    "<br></br>"
   ]
  },
  {
   "cell_type": "markdown",
   "metadata": {
    "slideshow": {
     "slide_type": "-"
    }
   },
   "source": [
    "# Performance considerations in scikit-learn\n",
    "---\n",
    "\n",
    "Good Practices for efficient use of scikit-learn"
   ]
  },
  {
   "cell_type": "markdown",
   "metadata": {},
   "source": [
    "<br></br>\n",
    "<br></br>\n",
    "<div align=\"center\">Jérémie du Boisberranger (INRIA)</div>"
   ]
  },
  {
   "cell_type": "markdown",
   "metadata": {
    "slideshow": {
     "slide_type": "slide"
    }
   },
   "source": [
    "intro"
   ]
  },
  {
   "cell_type": "markdown",
   "metadata": {
    "slideshow": {
     "slide_type": "slide"
    }
   },
   "source": [
    "## Think about data types\n",
    "\n",
    "Float32 vs float64\n",
    "- 2x less memory\n",
    "- faster computations (with vector instructions)\n",
    "- most scikit-learn estimators support both\n",
    "- numerical stability ensured by test suite"
   ]
  },
  {
   "cell_type": "markdown",
   "metadata": {
    "slideshow": {
     "slide_type": "subslide"
    }
   },
   "source": [
    "<div align='center'><img src=\"simd2_.png\" width=\"900\"></div>"
   ]
  },
  {
   "cell_type": "markdown",
   "metadata": {},
   "source": [
    "<div align='center'><img src=\"simd_.png\" width=\"700\"></div>"
   ]
  },
  {
   "cell_type": "markdown",
   "metadata": {
    "slideshow": {
     "slide_type": "subslide"
    }
   },
   "source": [
    "An illustration with a simple matrix product"
   ]
  },
  {
   "cell_type": "code",
   "execution_count": 200,
   "metadata": {
    "slideshow": {
     "slide_type": "-"
    }
   },
   "outputs": [
    {
     "name": "stdout",
     "output_type": "stream",
     "text": [
      "14.8 ms ± 336 µs per loop (mean ± std. dev. of 7 runs, 100 loops each)\n"
     ]
    }
   ],
   "source": [
    "# dtype = float64\n",
    "X = np.random.normal(size=(1000, 1000))\n",
    "%timeit X @ X.T"
   ]
  },
  {
   "cell_type": "code",
   "execution_count": 201,
   "metadata": {
    "slideshow": {
     "slide_type": "fragment"
    }
   },
   "outputs": [
    {
     "name": "stdout",
     "output_type": "stream",
     "text": [
      "7.42 ms ± 166 µs per loop (mean ± std. dev. of 7 runs, 100 loops each)\n"
     ]
    }
   ],
   "source": [
    "# dtype = float32\n",
    "X = X.astype(np.float32)\n",
    "%timeit X @ X.T"
   ]
  },
  {
   "cell_type": "markdown",
   "metadata": {
    "slideshow": {
     "slide_type": "subslide"
    }
   },
   "source": [
    "And using a scikit-learn estimator"
   ]
  },
  {
   "cell_type": "code",
   "execution_count": 23,
   "metadata": {
    "slideshow": {
     "slide_type": "-"
    }
   },
   "outputs": [],
   "source": [
    "from sklearn.datasets import make_regression\n",
    "from sklearn.linear_model import Ridge\n",
    "\n",
    "X, y = make_regression(n_samples=10000, n_features=1000)"
   ]
  },
  {
   "cell_type": "code",
   "execution_count": 8,
   "metadata": {
    "slideshow": {
     "slide_type": "-"
    }
   },
   "outputs": [
    {
     "name": "stdout",
     "output_type": "stream",
     "text": [
      "207 ms ± 13 ms per loop (mean ± std. dev. of 7 runs, 1 loop each)\n"
     ]
    }
   ],
   "source": [
    "%timeit Ridge().fit(X, y)"
   ]
  },
  {
   "cell_type": "code",
   "execution_count": 9,
   "metadata": {
    "slideshow": {
     "slide_type": "fragment"
    }
   },
   "outputs": [
    {
     "name": "stdout",
     "output_type": "stream",
     "text": [
      "110 ms ± 2.18 ms per loop (mean ± std. dev. of 7 runs, 10 loops each)\n"
     ]
    }
   ],
   "source": [
    "X = X.astype(np.float32)\n",
    "y = y.astype(np.float32)\n",
    "\n",
    "%timeit Ridge().fit(X, y)"
   ]
  },
  {
   "cell_type": "markdown",
   "metadata": {
    "slideshow": {
     "slide_type": "subslide"
    }
   },
   "source": [
    "**Type inference when reading data from file**\n",
    "\n",
    "Example: loading data in a Pandas DataFrame"
   ]
  },
  {
   "cell_type": "markdown",
   "metadata": {
    "slideshow": {
     "slide_type": "-"
    }
   },
   "source": [
    "data.csv is a csv file containing the following data:\n",
    "\n",
    "a &nbsp; b &nbsp; c  \n",
    "1 &nbsp; 1 &nbsp; 1.0  \n",
    "2 &nbsp;&nbsp;&nbsp;&nbsp;&nbsp;&nbsp; 2.0  \n",
    "3 &nbsp; 3 &nbsp; 3.0 "
   ]
  },
  {
   "cell_type": "code",
   "execution_count": 211,
   "metadata": {
    "slideshow": {
     "slide_type": "subslide"
    }
   },
   "outputs": [
    {
     "name": "stdout",
     "output_type": "stream",
     "text": [
      "   a    b    c\n",
      "0  1  1.0  1.0\n",
      "1  2  NaN  2.0\n",
      "2  3  3.0  3.0\n"
     ]
    }
   ],
   "source": [
    "import pandas as pd\n",
    "\n",
    "df = pd.read_csv('data.csv')\n",
    "print(df)"
   ]
  },
  {
   "cell_type": "code",
   "execution_count": 197,
   "metadata": {
    "slideshow": {
     "slide_type": "-"
    }
   },
   "outputs": [
    {
     "data": {
      "text/plain": [
       "a      int64\n",
       "b    float64\n",
       "c    float64\n",
       "dtype: object"
      ]
     },
     "execution_count": 197,
     "metadata": {},
     "output_type": "execute_result"
    }
   ],
   "source": [
    "df.dtypes"
   ]
  },
  {
   "cell_type": "markdown",
   "metadata": {
    "slideshow": {
     "slide_type": "subslide"
    }
   },
   "source": [
    "**Intermediate computations on the data**\n",
    "\n",
    "Example: scipy *pdist* converts to float64"
   ]
  },
  {
   "cell_type": "code",
   "execution_count": 199,
   "metadata": {},
   "outputs": [
    {
     "data": {
      "text/plain": [
       "dtype('float64')"
      ]
     },
     "execution_count": 199,
     "metadata": {},
     "output_type": "execute_result"
    }
   ],
   "source": [
    "from scipy.spatial.distance import pdist\n",
    "\n",
    "X = np.random.normal(size=(1000, 1000))\n",
    "X = X.astype(np.float32)\n",
    "\n",
    "pdist(X).dtype"
   ]
  },
  {
   "cell_type": "markdown",
   "metadata": {
    "slideshow": {
     "slide_type": "slide"
    }
   },
   "source": [
    "## Dealing with large intermediate results\n",
    "\n",
    "*Example*: K-means  \n",
    "For each point in X, find its closest center in C.\n",
    "\n",
    "Large intermediate result: pairwise distances between X and C  \n",
    "`n_samples x n_clusters`\n",
    "\n",
    "Small final result: indices of closest center for each observation  \n",
    "`n_samples`\n",
    "\n",
    "2 issues  \n",
    "-> high memory consumption  \n",
    "-> slower execution (data do not fit in cpu cache)"
   ]
  },
  {
   "cell_type": "markdown",
   "metadata": {
    "slideshow": {
     "slide_type": "subslide"
    }
   },
   "source": [
    "=> Compute intermediate results by chunks\n",
    "<div align='center'><img src=\"km_perf_vs_chunk_size_.png\" width=\"900\"></div>\n",
    "trade-off memory vs speed"
   ]
  },
  {
   "cell_type": "code",
   "execution_count": 213,
   "metadata": {
    "slideshow": {
     "slide_type": "subslide"
    }
   },
   "outputs": [
    {
     "name": "stdout",
     "output_type": "stream",
     "text": [
      "1.33 s ± 242 ms per loop (mean ± std. dev. of 7 runs, 1 loop each)\n",
      "peak memory: 1594.31 MiB, increment: 762.95 MiB\n"
     ]
    }
   ],
   "source": [
    "from sklearn.metrics import pairwise_distances_argmin\n",
    "\n",
    "X = np.random.random_sample((100000, 100))\n",
    "C = np.random.random_sample((1000, 100))\n",
    "\n",
    "%timeit pairwise_distances_argmin(X, C)\n",
    "%memit pairwise_distances_argmin(X, C)"
   ]
  },
  {
   "cell_type": "code",
   "execution_count": 40,
   "metadata": {
    "slideshow": {
     "slide_type": "fragment"
    }
   },
   "outputs": [
    {
     "name": "stdout",
     "output_type": "stream",
     "text": [
      "2.37 s ± 17.9 ms per loop (mean ± std. dev. of 7 runs, 1 loop each)\n",
      "peak memory: 473.14 MiB, increment: 1.09 MiB\n"
     ]
    }
   ],
   "source": [
    "from sklearn import config_context\n",
    "\n",
    "with config_context(working_memory=0.1):\n",
    "    %timeit pairwise_distances_argmin(X, C)\n",
    "    %memit pairwise_distances_argmin(X, C)"
   ]
  },
  {
   "cell_type": "code",
   "execution_count": 219,
   "metadata": {
    "slideshow": {
     "slide_type": "fragment"
    }
   },
   "outputs": [
    {
     "name": "stdout",
     "output_type": "stream",
     "text": [
      "1.01 s ± 212 ms per loop (mean ± std. dev. of 7 runs, 1 loop each)\n",
      "peak memory: 831.40 MiB, increment: 0.00 MiB\n"
     ]
    }
   ],
   "source": [
    "with config_context(working_memory=1):\n",
    "    %timeit pairwise_distances_argmin(X, C)\n",
    "    %memit pairwise_distances_argmin(X, C)"
   ]
  },
  {
   "cell_type": "markdown",
   "metadata": {
    "slideshow": {
     "slide_type": "slide"
    }
   },
   "source": [
    "## Benefit from sparsity\n",
    "\n",
    "Datasets with lot of zeros can be stored in sparse format.\n",
    "\n",
    "Algorithms take account of sparse representation to reduce time and memory complexity.  \n",
    "e.g. `O(# elements) -> O(# non zeros)`\n",
    "\n",
    "- Most scikit-learn estimators support sparse input.\n",
    "- Preprocessing transformers return sparse output when relevant `CountVectorizer`, `OneHotEncoder`"
   ]
  },
  {
   "cell_type": "code",
   "execution_count": 4,
   "metadata": {
    "slideshow": {
     "slide_type": "subslide"
    }
   },
   "outputs": [
    {
     "data": {
      "text/plain": [
       "<10000x1000 sparse matrix of type '<class 'numpy.float64'>'\n",
       "\twith 100000 stored elements in Compressed Sparse Row format>"
      ]
     },
     "execution_count": 4,
     "metadata": {},
     "output_type": "execute_result"
    }
   ],
   "source": [
    "from sklearn.preprocessing import OneHotEncoder\n",
    "\n",
    "X = np.random.randint(100, size=(10000, 10))\n",
    "y = np.random.randint(2, size=10000)\n",
    "\n",
    "Xt = OneHotEncoder(categories='auto').fit_transform(X)\n",
    "Xt"
   ]
  },
  {
   "cell_type": "code",
   "execution_count": 5,
   "metadata": {},
   "outputs": [
    {
     "data": {
      "text/plain": [
       "0.01"
      ]
     },
     "execution_count": 5,
     "metadata": {},
     "output_type": "execute_result"
    }
   ],
   "source": [
    "# density\n",
    "Xt.nnz / np.prod(Xt.shape)"
   ]
  },
  {
   "cell_type": "code",
   "execution_count": 131,
   "metadata": {
    "slideshow": {
     "slide_type": "skip"
    }
   },
   "outputs": [],
   "source": [
    "from scipy.sparse import csr_matrix\n",
    "\n",
    "def make_data(n_samples=100, n_features=100, density=1, random_state=0):\n",
    "    rng = np.random.RandomState(random_state)\n",
    "    X = rng.random_sample((n_samples, n_features))\n",
    "    X[X < (1 - density)] = 0\n",
    "\n",
    "    y = rng.randint(2, size=n_samples)\n",
    "    \n",
    "    return X, csr_matrix(X), y"
   ]
  },
  {
   "cell_type": "code",
   "execution_count": 205,
   "metadata": {
    "slideshow": {
     "slide_type": "subslide"
    }
   },
   "outputs": [],
   "source": [
    "from sklearn.ensemble import RandomForestRegressor\n",
    "\n",
    "rf = RandomForestRegressor(n_estimators=10,\n",
    "                           max_depth=5,\n",
    "                           max_features='log2',\n",
    "                           random_state=0)"
   ]
  },
  {
   "cell_type": "code",
   "execution_count": 206,
   "metadata": {
    "slideshow": {
     "slide_type": "fragment"
    }
   },
   "outputs": [
    {
     "name": "stdout",
     "output_type": "stream",
     "text": [
      "92.2 ms ± 2.31 ms per loop (mean ± std. dev. of 7 runs, 10 loops each)\n",
      "12.4 ms ± 76.3 µs per loop (mean ± std. dev. of 7 runs, 100 loops each)\n"
     ]
    }
   ],
   "source": [
    "X_dense, X_sparse, y = make_data(n_samples=10000, n_features=1000,\n",
    "                                 density=0.01)\n",
    "\n",
    "%timeit rf.fit(X_dense, y)\n",
    "%timeit rf.fit(X_sparse, y)"
   ]
  },
  {
   "cell_type": "code",
   "execution_count": 140,
   "metadata": {
    "slideshow": {
     "slide_type": "fragment"
    }
   },
   "outputs": [
    {
     "name": "stdout",
     "output_type": "stream",
     "text": [
      "203 ms ± 17.7 ms per loop (mean ± std. dev. of 7 runs, 10 loops each)\n",
      "248 ms ± 12.2 ms per loop (mean ± std. dev. of 7 runs, 1 loop each)\n"
     ]
    }
   ],
   "source": [
    "X_dense, X_sparse, y = make_data(n_samples=10000, n_features=1000,\n",
    "                                 density=0.5)\n",
    "\n",
    "%timeit rf.fit(X_dense, y)\n",
    "%timeit rf.fit(X_sparse, y)"
   ]
  },
  {
   "cell_type": "markdown",
   "metadata": {
    "slideshow": {
     "slide_type": "slide"
    }
   },
   "source": [
    "## Avoid unnecessary copy\n",
    "\n",
    "Some data attributes can cause a copy:\n",
    "- memory layout (C / Fortran)\n",
    "- dtype (float32 / float64)\n",
    "- sparse format (CSR / CSC)"
   ]
  },
  {
   "cell_type": "code",
   "execution_count": 156,
   "metadata": {
    "slideshow": {
     "slide_type": "subslide"
    }
   },
   "outputs": [
    {
     "name": "stdout",
     "output_type": "stream",
     "text": [
      "X takes 76.29 MiB in memory\n",
      "peak memory: 831.14 MiB, increment: 75.88 MiB\n"
     ]
    }
   ],
   "source": [
    "from sklearn.svm import LinearSVR\n",
    "\n",
    "X = np.random.random_sample((100000, 100))\n",
    "y = np.random.random_sample(100000)\n",
    "\n",
    "svr = LinearSVR(max_iter=20, tol=1e-16)\n",
    "%memit svr.fit(X, y)"
   ]
  },
  {
   "cell_type": "code",
   "execution_count": 148,
   "metadata": {
    "slideshow": {
     "slide_type": "fragment"
    }
   },
   "outputs": [
    {
     "name": "stdout",
     "output_type": "stream",
     "text": [
      "peak memory: 907.47 MiB, increment: 152.22 MiB\n"
     ]
    }
   ],
   "source": [
    "X = np.asfortranarray(X)\n",
    "%memit svr.fit(X, y)"
   ]
  },
  {
   "cell_type": "code",
   "execution_count": 158,
   "metadata": {
    "slideshow": {
     "slide_type": "fragment"
    }
   },
   "outputs": [
    {
     "data": {
      "text/plain": [
       "76.2939453125"
      ]
     },
     "execution_count": 158,
     "metadata": {},
     "output_type": "execute_result"
    }
   ],
   "source": [
    "X.nbytes / 2**20"
   ]
  },
  {
   "cell_type": "markdown",
   "metadata": {
    "slideshow": {
     "slide_type": "slide"
    }
   },
   "source": [
    "## Implement critical part in compiled language\n",
    "\n",
    "- C, C++, Rust\n",
    "- Cython <- scikit-learn\n",
    "- Pythran\n",
    "- Numba"
   ]
  },
  {
   "cell_type": "markdown",
   "metadata": {
    "slideshow": {
     "slide_type": "subslide"
    }
   },
   "source": [
    "Can be worth even when easily doable with numpy"
   ]
  },
  {
   "cell_type": "code",
   "execution_count": 8,
   "metadata": {
    "slideshow": {
     "slide_type": "-"
    }
   },
   "outputs": [
    {
     "name": "stdout",
     "output_type": "stream",
     "text": [
      "6.65 ms ± 170 µs per loop (mean ± std. dev. of 7 runs, 100 loops each)\n"
     ]
    }
   ],
   "source": [
    "X = np.random.random_sample((1000, 1000))\n",
    "Y = np.random.random_sample((1000, 1000))\n",
    "Z = np.random.random_sample((1000, 1000))\n",
    "\n",
    "%timeit X + 2*Y + 3*Z"
   ]
  },
  {
   "cell_type": "code",
   "execution_count": 4,
   "metadata": {
    "slideshow": {
     "slide_type": "subslide"
    }
   },
   "outputs": [],
   "source": [
    "%%cython\n",
    "#cython: boundscheck=False, wraparound=False\n",
    "import numpy as np\n",
    "\n",
    "def cython_sum(double[:, ::1] X, double[:, ::1] Y, double[:, ::1] Z):\n",
    "    cdef:\n",
    "        Py_ssize_t m = X.shape[0]\n",
    "        Py_ssize_t n = X.shape[1]\n",
    "        Py_ssize_t i, j\n",
    "        double[:, ::1] res = np.empty((m, n))\n",
    "        \n",
    "    for i in range(m):\n",
    "        for j in range(n):\n",
    "            res[i, j] = X[i, j] + 2 * Y[i, j] + 3 * Z[i, j]\n",
    "    \n",
    "    return np.asarray(res)"
   ]
  },
  {
   "cell_type": "code",
   "execution_count": 9,
   "metadata": {
    "slideshow": {
     "slide_type": "fragment"
    }
   },
   "outputs": [
    {
     "name": "stdout",
     "output_type": "stream",
     "text": [
      "1.91 ms ± 92.4 µs per loop (mean ± std. dev. of 7 runs, 100 loops each)\n"
     ]
    }
   ],
   "source": [
    "%timeit cython_sum(X, Y, Z)"
   ]
  },
  {
   "cell_type": "markdown",
   "metadata": {
    "slideshow": {
     "slide_type": "slide"
    }
   },
   "source": [
    "## Parallelism\n",
    "\n",
    "multi-processing:\n",
    "    - data copy\n",
    "    - inter-process communication\n",
    "    - in scikit-learn: joblib (loky backend)\n",
    "    \n",
    "multi-threading:\n",
    "    - data shared between threads\n",
    "    - thread safety questions\n",
    "    - in sklearn: joblib (threading backend), but GIL.\n",
    "                  OpenMP in cython."
   ]
  },
  {
   "cell_type": "markdown",
   "metadata": {
    "slideshow": {
     "slide_type": "subslide"
    }
   },
   "source": [
    "In scikit-learn: controlled by the `n_jobs` parameter\n",
    "\n"
   ]
  },
  {
   "cell_type": "code",
   "execution_count": 10,
   "metadata": {},
   "outputs": [],
   "source": [
    "from sklearn.metrics import pairwise_distances\n",
    "\n",
    "X = np.random.normal(size=(1000, 1000))"
   ]
  },
  {
   "cell_type": "code",
   "execution_count": 11,
   "metadata": {},
   "outputs": [
    {
     "name": "stdout",
     "output_type": "stream",
     "text": [
      "690 ms ± 7.53 ms per loop (mean ± std. dev. of 7 runs, 1 loop each)\n",
      "402 ms ± 95.8 µs per loop (mean ± std. dev. of 7 runs, 1 loop each)\n",
      "302 ms ± 115 µs per loop (mean ± std. dev. of 7 runs, 1 loop each)\n"
     ]
    }
   ],
   "source": [
    "%timeit pairwise_distances(X, metric='manhattan', n_jobs=1)\n",
    "%timeit pairwise_distances(X, metric='manhattan', n_jobs=2)\n",
    "%timeit pairwise_distances(X, metric='manhattan', n_jobs=4)"
   ]
  },
  {
   "cell_type": "markdown",
   "metadata": {
    "slideshow": {
     "slide_type": "subslide"
    }
   },
   "source": [
    "However greater n_jobs does not always mean better performances"
   ]
  },
  {
   "cell_type": "code",
   "execution_count": 182,
   "metadata": {},
   "outputs": [
    {
     "name": "stdout",
     "output_type": "stream",
     "text": [
      "23.1 ms ± 1.64 ms per loop (mean ± std. dev. of 7 runs, 10 loops each)\n",
      "101 ms ± 313 µs per loop (mean ± std. dev. of 7 runs, 10 loops each)\n",
      "117 ms ± 2.07 ms per loop (mean ± std. dev. of 7 runs, 10 loops each)\n"
     ]
    }
   ],
   "source": [
    "%timeit pairwise_distances(X, metric='euclidean', n_jobs=1)\n",
    "%timeit pairwise_distances(X, metric='euclidean', n_jobs=2)\n",
    "%timeit pairwise_distances(X, metric='euclidean', n_jobs=4)"
   ]
  },
  {
   "cell_type": "markdown",
   "metadata": {
    "slideshow": {
     "slide_type": "fragment"
    }
   },
   "source": [
    "- Thread or process creation overhead\n",
    "- Already multi-threaded by BLAS (Basic Linear Algebra Subroutines)"
   ]
  },
  {
   "cell_type": "markdown",
   "metadata": {
    "slideshow": {
     "slide_type": "subslide"
    }
   },
   "source": [
    "**Risk of oversubscription**\n",
    "\n",
    "Nested parallelism very common in scikit-learn\n",
    "- Outer parallelism with joblib, controlled by `n_jobs`  \n",
    "  mostly multi-processing\n",
    "- Inner parallelism with BLAS (OpenBLAS / MKL), unrestricted  \n",
    "  multi-threading\n",
    "\n",
    "*Example*:  \n",
    "0uter parallel loop spawns n (# cpu) processes  \n",
    "Inner parallel loop spawns n (# cpu) threads  \n",
    "=> n² processes/threads"
   ]
  },
  {
   "cell_type": "markdown",
   "metadata": {
    "slideshow": {
     "slide_type": "subslide"
    }
   },
   "source": [
    "An illustration with a search for best parameters of an estimator which makes lot of BLAS calls. (on a machine with 44 cpus)"
   ]
  },
  {
   "cell_type": "markdown",
   "metadata": {},
   "source": [
    "First: our baseline with `n_jobs=1`"
   ]
  },
  {
   "cell_type": "code",
   "execution_count": null,
   "metadata": {
    "slideshow": {
     "slide_type": "-"
    }
   },
   "outputs": [],
   "source": [
    "In [2]: from sklearn.linear_model import LogisticRegression \n",
    "   ...: from sklearn.model_selection import GridSearchCV\n",
    "   ...: from joblib import parallel_backend \n",
    "   ...:  \n",
    "   ...: X = np.random.random_sample((100000, 100)) \n",
    "   ...: y = np.random.randint(2, size=100000) \n",
    "   ...:\n",
    "   ...: lr = LogisticRegression(solver='lbfgs') \n",
    "   ...: param_grid = {'C': np.logspace(-1, 3, num=10)} \n",
    "   ...:  \n",
    "   ...: gs = GridSearchCV(lr, param_grid=param_grid, cv=5, n_jobs=1) \n",
    "   ...:\n",
    "   ...: %timeit gs.fit(X,y)                                                                                                             \n",
    "27.9 s ± 369 ms per loop (mean ± std. dev. of 7 runs, 1 loop each)"
   ]
  },
  {
   "cell_type": "markdown",
   "metadata": {
    "slideshow": {
     "slide_type": "subslide"
    }
   },
   "source": [
    "`GrisSearchCV` is embarrassingly parallel.  \n",
    "Let's put `n_jobs=44` to benefit from our 44 cpus."
   ]
  },
  {
   "cell_type": "code",
   "execution_count": null,
   "metadata": {
    "slideshow": {
     "slide_type": "-"
    }
   },
   "outputs": [],
   "source": [
    "In [3]: gs = GridSearchCV(lr, param_grid=param_grid, cv=5, n_jobs=44) \n",
    "   ...:  \n",
    "   ...: %timeit gs.fit(X,y)                                                                                                \n",
    "29.8 s ± 302 ms per loop (mean ± std. dev. of 7 runs, 1 loop each)"
   ]
  },
  {
   "cell_type": "markdown",
   "metadata": {},
   "source": [
    "No improvment ! Even slightly worse..."
   ]
  },
  {
   "cell_type": "markdown",
   "metadata": {
    "slideshow": {
     "slide_type": "subslide"
    }
   },
   "source": [
    "<img src=\"gs44_ob44_.png\" width=\"800\">"
   ]
  },
  {
   "cell_type": "markdown",
   "metadata": {
    "slideshow": {
     "slide_type": "subslide"
    }
   },
   "source": [
    "We can restrict the allowed number of threads for the BLAS library.  \n",
    "=> Set the `OPENBLAS_NUM_THREADS` or `MKL_NUM_THREADS` environment variable.  \n",
    "(Before imports)"
   ]
  },
  {
   "cell_type": "code",
   "execution_count": null,
   "metadata": {
    "slideshow": {
     "slide_type": "-"
    }
   },
   "outputs": [],
   "source": [
    "In [2]: gs = GridSearchCV(lr, param_grid=param_grid, cv=5, n_jobs=44) \n",
    "   ...:  \n",
    "   ...: %timeit gs.fit(X,y)  \n",
    "3.03 s ± 49.3 ms per loop (mean ± std. dev. of 7 runs, 1 loop each)"
   ]
  },
  {
   "cell_type": "markdown",
   "metadata": {
    "slideshow": {
     "slide_type": "subslide"
    }
   },
   "source": [
    "<img src=\"gs44_ob1_.png\" width=\"800\">"
   ]
  },
  {
   "cell_type": "markdown",
   "metadata": {
    "slideshow": {
     "slide_type": "subslide"
    }
   },
   "source": [
    "In the future joblib should automatically prevent oversubscription.  \n",
    "=> Limit number of threads BLAS libraries can use in each sub-process.\n",
    "\n",
    "For multi-threaded parallelism (e.g. with OpenMP in cython)  \n",
    "=> Ongoing work in threadpoolctl, https://github.com/joblib/threadpoolctl.  \n",
    "(inspired by SMP, https://github.com/IntelPython/smp, from Anton Malakhov)"
   ]
  },
  {
   "cell_type": "markdown",
   "metadata": {
    "slideshow": {
     "slide_type": "slide"
    }
   },
   "source": [
    "## Take a step back\n",
    "\n",
    "\n",
    "Importance of profiling: find what needs an optimization the most.  \n",
    "**Optimizing is trading maintainability for performance.**\n",
    " \n",
    "- Only optimize the critical part.  \n",
    "  Optimized code is often more complicated and less readable.\n",
    "  \n",
    "  \n",
    "- CPU bound vs memory bound.  \n",
    "  Don't buy brand new hardware with faster memory access to multiply matrices.\n",
    "  \n",
    "  \n",
    "- Ratio between sequential part and parallel part.  \n",
    "  More cpus can only speed up the parallel part."
   ]
  },
  {
   "cell_type": "code",
   "execution_count": 17,
   "metadata": {
    "slideshow": {
     "slide_type": "subslide"
    }
   },
   "outputs": [
    {
     "name": "stdout",
     "output_type": "stream",
     "text": [
      " \n",
      "*** Profile stats marshalled to file '/tmp/tmpnprf5po0'. \n",
      "Opening SnakeViz in a new tab...\n"
     ]
    }
   ],
   "source": [
    "from sklearn.cluster import KMeans\n",
    "\n",
    "X = np.random.random_sample((10000, 100))\n",
    "\n",
    "kmeans = KMeans(n_clusters=100, n_init=1, algorithm='full')\n",
    "\n",
    "%snakeviz -t kmeans.fit(X)"
   ]
  },
  {
   "cell_type": "markdown",
   "metadata": {
    "slideshow": {
     "slide_type": "subslide"
    }
   },
   "source": [
    "<img src=\"prof_.png\" width=\"1600\">"
   ]
  },
  {
   "cell_type": "markdown",
   "metadata": {
    "slideshow": {
     "slide_type": "slide"
    }
   },
   "source": [
    "# Thank you for your attention"
   ]
  },
  {
   "cell_type": "code",
   "execution_count": null,
   "metadata": {
    "slideshow": {
     "slide_type": "slide"
    }
   },
   "outputs": [],
   "source": [
    "Misc\n",
    "\n",
    "-Avoid recomputing the same thing over and over\n",
    "\n",
    " cache functions you'll call many times with same arguments.\n",
    "\n",
    " Example: a pipeline with a transformer and an estimator\n",
    "          in a gridsearch for the best params of the estimator\n",
    "          usefull if the fit of the transformer is computionaly expensive\n",
    "\n",
    "- "
   ]
  }
 ],
 "metadata": {
  "celltoolbar": "Slideshow",
  "kernelspec": {
   "display_name": "Python 3",
   "language": "python",
   "name": "python3"
  },
  "language_info": {
   "codemirror_mode": {
    "name": "ipython",
    "version": 3
   },
   "file_extension": ".py",
   "mimetype": "text/x-python",
   "name": "python",
   "nbconvert_exporter": "python",
   "pygments_lexer": "ipython3",
   "version": "3.6.7"
  }
 },
 "nbformat": 4,
 "nbformat_minor": 2
}
